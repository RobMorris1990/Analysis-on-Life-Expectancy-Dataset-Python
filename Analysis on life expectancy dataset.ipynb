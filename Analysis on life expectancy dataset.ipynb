{
 "cells": [
  {
   "cell_type": "markdown",
   "id": "5d1c87c4",
   "metadata": {},
   "source": [
    "### Importing common Python libraries"
   ]
  },
  {
   "cell_type": "code",
   "execution_count": 1,
   "id": "ae162a24",
   "metadata": {},
   "outputs": [],
   "source": [
    "import pandas as pd\n",
    "import numpy as np\n",
    "import matplotlib.pyplot as plt\n",
    "import seaborn as sns\n",
    "%matplotlib inline"
   ]
  },
  {
   "cell_type": "code",
   "execution_count": 2,
   "id": "8a887b7d",
   "metadata": {},
   "outputs": [],
   "source": [
    "# link to dataset: https://www.kaggle.com/datasets/mjshri23/life-expectancy-and-socio-economic-world-bank?resource=download"
   ]
  },
  {
   "cell_type": "markdown",
   "id": "1529e662",
   "metadata": {},
   "source": [
    "### Reading CSV file and looking at the dataset"
   ]
  },
  {
   "cell_type": "code",
   "execution_count": 3,
   "id": "6eb58dc8",
   "metadata": {},
   "outputs": [
    {
     "data": {
      "text/html": [
       "<div>\n",
       "<style scoped>\n",
       "    .dataframe tbody tr th:only-of-type {\n",
       "        vertical-align: middle;\n",
       "    }\n",
       "\n",
       "    .dataframe tbody tr th {\n",
       "        vertical-align: top;\n",
       "    }\n",
       "\n",
       "    .dataframe thead th {\n",
       "        text-align: right;\n",
       "    }\n",
       "</style>\n",
       "<table border=\"1\" class=\"dataframe\">\n",
       "  <thead>\n",
       "    <tr style=\"text-align: right;\">\n",
       "      <th></th>\n",
       "      <th>Country Name</th>\n",
       "      <th>Country Code</th>\n",
       "      <th>Region</th>\n",
       "      <th>IncomeGroup</th>\n",
       "      <th>Year</th>\n",
       "      <th>Life Expectancy World Bank</th>\n",
       "      <th>Prevelance of Undernourishment</th>\n",
       "      <th>CO2</th>\n",
       "      <th>Health Expenditure %</th>\n",
       "      <th>Education Expenditure %</th>\n",
       "      <th>Unemployment</th>\n",
       "      <th>Corruption</th>\n",
       "      <th>Sanitation</th>\n",
       "      <th>Injuries</th>\n",
       "      <th>Communicable</th>\n",
       "      <th>NonCommunicable</th>\n",
       "    </tr>\n",
       "  </thead>\n",
       "  <tbody>\n",
       "    <tr>\n",
       "      <th>0</th>\n",
       "      <td>Afghanistan</td>\n",
       "      <td>AFG</td>\n",
       "      <td>South Asia</td>\n",
       "      <td>Low income</td>\n",
       "      <td>2001</td>\n",
       "      <td>56.308</td>\n",
       "      <td>47.8</td>\n",
       "      <td>730.0</td>\n",
       "      <td>NaN</td>\n",
       "      <td>NaN</td>\n",
       "      <td>10.809000</td>\n",
       "      <td>NaN</td>\n",
       "      <td>NaN</td>\n",
       "      <td>2179727.10</td>\n",
       "      <td>9689193.70</td>\n",
       "      <td>5795426.38</td>\n",
       "    </tr>\n",
       "    <tr>\n",
       "      <th>1</th>\n",
       "      <td>Angola</td>\n",
       "      <td>AGO</td>\n",
       "      <td>Sub-Saharan Africa</td>\n",
       "      <td>Lower middle income</td>\n",
       "      <td>2001</td>\n",
       "      <td>47.059</td>\n",
       "      <td>67.5</td>\n",
       "      <td>15960.0</td>\n",
       "      <td>4.483516</td>\n",
       "      <td>NaN</td>\n",
       "      <td>4.004000</td>\n",
       "      <td>NaN</td>\n",
       "      <td>NaN</td>\n",
       "      <td>1392080.71</td>\n",
       "      <td>11190210.53</td>\n",
       "      <td>2663516.34</td>\n",
       "    </tr>\n",
       "    <tr>\n",
       "      <th>2</th>\n",
       "      <td>Albania</td>\n",
       "      <td>ALB</td>\n",
       "      <td>Europe &amp; Central Asia</td>\n",
       "      <td>Upper middle income</td>\n",
       "      <td>2001</td>\n",
       "      <td>74.288</td>\n",
       "      <td>4.9</td>\n",
       "      <td>3230.0</td>\n",
       "      <td>7.139524</td>\n",
       "      <td>3.4587</td>\n",
       "      <td>18.575001</td>\n",
       "      <td>NaN</td>\n",
       "      <td>40.520895</td>\n",
       "      <td>117081.67</td>\n",
       "      <td>140894.78</td>\n",
       "      <td>532324.75</td>\n",
       "    </tr>\n",
       "    <tr>\n",
       "      <th>3</th>\n",
       "      <td>Andorra</td>\n",
       "      <td>AND</td>\n",
       "      <td>Europe &amp; Central Asia</td>\n",
       "      <td>High income</td>\n",
       "      <td>2001</td>\n",
       "      <td>NaN</td>\n",
       "      <td>NaN</td>\n",
       "      <td>520.0</td>\n",
       "      <td>5.865939</td>\n",
       "      <td>NaN</td>\n",
       "      <td>NaN</td>\n",
       "      <td>NaN</td>\n",
       "      <td>21.788660</td>\n",
       "      <td>1697.99</td>\n",
       "      <td>695.56</td>\n",
       "      <td>13636.64</td>\n",
       "    </tr>\n",
       "    <tr>\n",
       "      <th>4</th>\n",
       "      <td>United Arab Emirates</td>\n",
       "      <td>ARE</td>\n",
       "      <td>Middle East &amp; North Africa</td>\n",
       "      <td>High income</td>\n",
       "      <td>2001</td>\n",
       "      <td>74.544</td>\n",
       "      <td>2.8</td>\n",
       "      <td>97200.0</td>\n",
       "      <td>2.484370</td>\n",
       "      <td>NaN</td>\n",
       "      <td>2.493000</td>\n",
       "      <td>NaN</td>\n",
       "      <td>NaN</td>\n",
       "      <td>144678.14</td>\n",
       "      <td>65271.91</td>\n",
       "      <td>481740.70</td>\n",
       "    </tr>\n",
       "  </tbody>\n",
       "</table>\n",
       "</div>"
      ],
      "text/plain": [
       "           Country Name Country Code                      Region  \\\n",
       "0           Afghanistan          AFG                  South Asia   \n",
       "1                Angola          AGO          Sub-Saharan Africa   \n",
       "2               Albania          ALB       Europe & Central Asia   \n",
       "3               Andorra          AND       Europe & Central Asia   \n",
       "4  United Arab Emirates          ARE  Middle East & North Africa   \n",
       "\n",
       "           IncomeGroup  Year  Life Expectancy World Bank  \\\n",
       "0           Low income  2001                      56.308   \n",
       "1  Lower middle income  2001                      47.059   \n",
       "2  Upper middle income  2001                      74.288   \n",
       "3          High income  2001                         NaN   \n",
       "4          High income  2001                      74.544   \n",
       "\n",
       "   Prevelance of Undernourishment      CO2  Health Expenditure %  \\\n",
       "0                            47.8    730.0                   NaN   \n",
       "1                            67.5  15960.0              4.483516   \n",
       "2                             4.9   3230.0              7.139524   \n",
       "3                             NaN    520.0              5.865939   \n",
       "4                             2.8  97200.0              2.484370   \n",
       "\n",
       "   Education Expenditure %  Unemployment  Corruption  Sanitation    Injuries  \\\n",
       "0                      NaN     10.809000         NaN         NaN  2179727.10   \n",
       "1                      NaN      4.004000         NaN         NaN  1392080.71   \n",
       "2                   3.4587     18.575001         NaN   40.520895   117081.67   \n",
       "3                      NaN           NaN         NaN   21.788660     1697.99   \n",
       "4                      NaN      2.493000         NaN         NaN   144678.14   \n",
       "\n",
       "   Communicable  NonCommunicable  \n",
       "0    9689193.70       5795426.38  \n",
       "1   11190210.53       2663516.34  \n",
       "2     140894.78        532324.75  \n",
       "3        695.56         13636.64  \n",
       "4      65271.91        481740.70  "
      ]
     },
     "execution_count": 3,
     "metadata": {},
     "output_type": "execute_result"
    }
   ],
   "source": [
    "df = pd.read_csv(\"life expectancy.csv\")\n",
    "df.head()"
   ]
  },
  {
   "cell_type": "code",
   "execution_count": 4,
   "id": "ec0214f3",
   "metadata": {},
   "outputs": [
    {
     "data": {
      "text/plain": [
       "(3306, 16)"
      ]
     },
     "execution_count": 4,
     "metadata": {},
     "output_type": "execute_result"
    }
   ],
   "source": [
    "df.shape"
   ]
  },
  {
   "cell_type": "code",
   "execution_count": 5,
   "id": "9232eeb5",
   "metadata": {},
   "outputs": [
    {
     "data": {
      "text/plain": [
       "Country Name                       object\n",
       "Country Code                       object\n",
       "Region                             object\n",
       "IncomeGroup                        object\n",
       "Year                                int64\n",
       "Life Expectancy World Bank        float64\n",
       "Prevelance of Undernourishment    float64\n",
       "CO2                               float64\n",
       "Health Expenditure %              float64\n",
       "Education Expenditure %           float64\n",
       "Unemployment                      float64\n",
       "Corruption                        float64\n",
       "Sanitation                        float64\n",
       "Injuries                          float64\n",
       "Communicable                      float64\n",
       "NonCommunicable                   float64\n",
       "dtype: object"
      ]
     },
     "execution_count": 5,
     "metadata": {},
     "output_type": "execute_result"
    }
   ],
   "source": [
    "df.dtypes"
   ]
  },
  {
   "cell_type": "code",
   "execution_count": 6,
   "id": "286797f9",
   "metadata": {},
   "outputs": [
    {
     "data": {
      "text/plain": [
       "Country Name                         0\n",
       "Country Code                         0\n",
       "Region                               0\n",
       "IncomeGroup                          0\n",
       "Year                                 0\n",
       "Life Expectancy World Bank         188\n",
       "Prevelance of Undernourishment     684\n",
       "CO2                                152\n",
       "Health Expenditure %               180\n",
       "Education Expenditure %           1090\n",
       "Unemployment                       304\n",
       "Corruption                        2331\n",
       "Sanitation                        1247\n",
       "Injuries                             0\n",
       "Communicable                         0\n",
       "NonCommunicable                      0\n",
       "dtype: int64"
      ]
     },
     "execution_count": 6,
     "metadata": {},
     "output_type": "execute_result"
    }
   ],
   "source": [
    "df.isnull().sum()"
   ]
  },
  {
   "cell_type": "code",
   "execution_count": 7,
   "id": "a432f816",
   "metadata": {},
   "outputs": [],
   "source": [
    "df.fillna(df.mean(numeric_only=True), inplace=True)"
   ]
  },
  {
   "cell_type": "code",
   "execution_count": 8,
   "id": "d64274d1",
   "metadata": {},
   "outputs": [
    {
     "data": {
      "text/plain": [
       "174"
      ]
     },
     "execution_count": 8,
     "metadata": {},
     "output_type": "execute_result"
    }
   ],
   "source": [
    "df[\"Country Name\"].nunique()"
   ]
  },
  {
   "cell_type": "code",
   "execution_count": 9,
   "id": "e7c22aa7",
   "metadata": {},
   "outputs": [
    {
     "data": {
      "text/plain": [
       "2001"
      ]
     },
     "execution_count": 9,
     "metadata": {},
     "output_type": "execute_result"
    }
   ],
   "source": [
    "df[\"Year\"].min()"
   ]
  },
  {
   "cell_type": "code",
   "execution_count": 10,
   "id": "2ddfab6a",
   "metadata": {},
   "outputs": [
    {
     "data": {
      "text/plain": [
       "2019"
      ]
     },
     "execution_count": 10,
     "metadata": {},
     "output_type": "execute_result"
    }
   ],
   "source": [
    "df[\"Year\"].max()"
   ]
  },
  {
   "cell_type": "code",
   "execution_count": 11,
   "id": "e3a3345b",
   "metadata": {},
   "outputs": [
    {
     "data": {
      "text/html": [
       "<div>\n",
       "<style scoped>\n",
       "    .dataframe tbody tr th:only-of-type {\n",
       "        vertical-align: middle;\n",
       "    }\n",
       "\n",
       "    .dataframe tbody tr th {\n",
       "        vertical-align: top;\n",
       "    }\n",
       "\n",
       "    .dataframe thead th {\n",
       "        text-align: right;\n",
       "    }\n",
       "</style>\n",
       "<table border=\"1\" class=\"dataframe\">\n",
       "  <thead>\n",
       "    <tr style=\"text-align: right;\">\n",
       "      <th></th>\n",
       "      <th>Year</th>\n",
       "      <th>Life Expectancy World Bank</th>\n",
       "      <th>Prevelance of Undernourishment</th>\n",
       "      <th>CO2</th>\n",
       "      <th>Health Expenditure %</th>\n",
       "      <th>Education Expenditure %</th>\n",
       "      <th>Unemployment</th>\n",
       "      <th>Corruption</th>\n",
       "      <th>Sanitation</th>\n",
       "      <th>Injuries</th>\n",
       "      <th>Communicable</th>\n",
       "      <th>NonCommunicable</th>\n",
       "    </tr>\n",
       "  </thead>\n",
       "  <tbody>\n",
       "    <tr>\n",
       "      <th>count</th>\n",
       "      <td>3306.000000</td>\n",
       "      <td>3306.000000</td>\n",
       "      <td>3306.000000</td>\n",
       "      <td>3.306000e+03</td>\n",
       "      <td>3306.000000</td>\n",
       "      <td>3306.000000</td>\n",
       "      <td>3306.000000</td>\n",
       "      <td>3306.000000</td>\n",
       "      <td>3306.000000</td>\n",
       "      <td>3.306000e+03</td>\n",
       "      <td>3.306000e+03</td>\n",
       "      <td>3.306000e+03</td>\n",
       "    </tr>\n",
       "    <tr>\n",
       "      <th>mean</th>\n",
       "      <td>2010.000000</td>\n",
       "      <td>69.748362</td>\n",
       "      <td>10.663654</td>\n",
       "      <td>1.574924e+05</td>\n",
       "      <td>6.364059</td>\n",
       "      <td>4.589014</td>\n",
       "      <td>7.890760</td>\n",
       "      <td>2.860513</td>\n",
       "      <td>52.738785</td>\n",
       "      <td>1.318219e+06</td>\n",
       "      <td>4.686289e+06</td>\n",
       "      <td>7.392488e+06</td>\n",
       "    </tr>\n",
       "    <tr>\n",
       "      <th>std</th>\n",
       "      <td>5.478054</td>\n",
       "      <td>9.136652</td>\n",
       "      <td>10.050412</td>\n",
       "      <td>7.546652e+05</td>\n",
       "      <td>2.764345</td>\n",
       "      <td>1.734866</td>\n",
       "      <td>5.975475</td>\n",
       "      <td>0.337307</td>\n",
       "      <td>23.773296</td>\n",
       "      <td>5.214068e+06</td>\n",
       "      <td>1.843727e+07</td>\n",
       "      <td>2.932688e+07</td>\n",
       "    </tr>\n",
       "    <tr>\n",
       "      <th>min</th>\n",
       "      <td>2001.000000</td>\n",
       "      <td>40.369000</td>\n",
       "      <td>2.500000</td>\n",
       "      <td>1.000000e+01</td>\n",
       "      <td>1.263576</td>\n",
       "      <td>0.850320</td>\n",
       "      <td>0.100000</td>\n",
       "      <td>1.000000</td>\n",
       "      <td>2.377647</td>\n",
       "      <td>4.304900e+02</td>\n",
       "      <td>3.301600e+02</td>\n",
       "      <td>2.481820e+03</td>\n",
       "    </tr>\n",
       "    <tr>\n",
       "      <th>25%</th>\n",
       "      <td>2005.000000</td>\n",
       "      <td>64.215000</td>\n",
       "      <td>2.800000</td>\n",
       "      <td>2.182500e+03</td>\n",
       "      <td>4.304727</td>\n",
       "      <td>3.698569</td>\n",
       "      <td>3.906250</td>\n",
       "      <td>2.860513</td>\n",
       "      <td>39.472910</td>\n",
       "      <td>6.245688e+04</td>\n",
       "      <td>5.776475e+04</td>\n",
       "      <td>3.184758e+05</td>\n",
       "    </tr>\n",
       "    <tr>\n",
       "      <th>50%</th>\n",
       "      <td>2010.000000</td>\n",
       "      <td>71.522500</td>\n",
       "      <td>9.200000</td>\n",
       "      <td>1.208000e+04</td>\n",
       "      <td>6.146391</td>\n",
       "      <td>4.589014</td>\n",
       "      <td>6.660000</td>\n",
       "      <td>2.860513</td>\n",
       "      <td>52.738785</td>\n",
       "      <td>2.456910e+05</td>\n",
       "      <td>3.147693e+05</td>\n",
       "      <td>1.350146e+06</td>\n",
       "    </tr>\n",
       "    <tr>\n",
       "      <th>75%</th>\n",
       "      <td>2015.000000</td>\n",
       "      <td>76.474207</td>\n",
       "      <td>11.600000</td>\n",
       "      <td>7.357250e+04</td>\n",
       "      <td>8.001557</td>\n",
       "      <td>4.922585</td>\n",
       "      <td>9.500750</td>\n",
       "      <td>2.860513</td>\n",
       "      <td>63.658282</td>\n",
       "      <td>8.465591e+05</td>\n",
       "      <td>2.831636e+06</td>\n",
       "      <td>3.918468e+06</td>\n",
       "    </tr>\n",
       "    <tr>\n",
       "      <th>max</th>\n",
       "      <td>2019.000000</td>\n",
       "      <td>84.356341</td>\n",
       "      <td>70.900000</td>\n",
       "      <td>1.070722e+07</td>\n",
       "      <td>24.230680</td>\n",
       "      <td>23.270000</td>\n",
       "      <td>37.250000</td>\n",
       "      <td>4.500000</td>\n",
       "      <td>100.000004</td>\n",
       "      <td>5.563676e+07</td>\n",
       "      <td>2.685646e+08</td>\n",
       "      <td>3.246378e+08</td>\n",
       "    </tr>\n",
       "  </tbody>\n",
       "</table>\n",
       "</div>"
      ],
      "text/plain": [
       "              Year  Life Expectancy World Bank  \\\n",
       "count  3306.000000                 3306.000000   \n",
       "mean   2010.000000                   69.748362   \n",
       "std       5.478054                    9.136652   \n",
       "min    2001.000000                   40.369000   \n",
       "25%    2005.000000                   64.215000   \n",
       "50%    2010.000000                   71.522500   \n",
       "75%    2015.000000                   76.474207   \n",
       "max    2019.000000                   84.356341   \n",
       "\n",
       "       Prevelance of Undernourishment           CO2  Health Expenditure %  \\\n",
       "count                     3306.000000  3.306000e+03           3306.000000   \n",
       "mean                        10.663654  1.574924e+05              6.364059   \n",
       "std                         10.050412  7.546652e+05              2.764345   \n",
       "min                          2.500000  1.000000e+01              1.263576   \n",
       "25%                          2.800000  2.182500e+03              4.304727   \n",
       "50%                          9.200000  1.208000e+04              6.146391   \n",
       "75%                         11.600000  7.357250e+04              8.001557   \n",
       "max                         70.900000  1.070722e+07             24.230680   \n",
       "\n",
       "       Education Expenditure %  Unemployment   Corruption   Sanitation  \\\n",
       "count              3306.000000   3306.000000  3306.000000  3306.000000   \n",
       "mean                  4.589014      7.890760     2.860513    52.738785   \n",
       "std                   1.734866      5.975475     0.337307    23.773296   \n",
       "min                   0.850320      0.100000     1.000000     2.377647   \n",
       "25%                   3.698569      3.906250     2.860513    39.472910   \n",
       "50%                   4.589014      6.660000     2.860513    52.738785   \n",
       "75%                   4.922585      9.500750     2.860513    63.658282   \n",
       "max                  23.270000     37.250000     4.500000   100.000004   \n",
       "\n",
       "           Injuries  Communicable  NonCommunicable  \n",
       "count  3.306000e+03  3.306000e+03     3.306000e+03  \n",
       "mean   1.318219e+06  4.686289e+06     7.392488e+06  \n",
       "std    5.214068e+06  1.843727e+07     2.932688e+07  \n",
       "min    4.304900e+02  3.301600e+02     2.481820e+03  \n",
       "25%    6.245688e+04  5.776475e+04     3.184758e+05  \n",
       "50%    2.456910e+05  3.147693e+05     1.350146e+06  \n",
       "75%    8.465591e+05  2.831636e+06     3.918468e+06  \n",
       "max    5.563676e+07  2.685646e+08     3.246378e+08  "
      ]
     },
     "execution_count": 11,
     "metadata": {},
     "output_type": "execute_result"
    }
   ],
   "source": [
    "df.describe()"
   ]
  },
  {
   "cell_type": "code",
   "execution_count": 12,
   "id": "c70e33a2",
   "metadata": {},
   "outputs": [
    {
     "data": {
      "text/plain": [
       "array(['South Asia', 'Sub-Saharan Africa', 'Europe & Central Asia',\n",
       "       'Middle East & North Africa', 'Latin America & Caribbean',\n",
       "       'East Asia & Pacific', 'North America'], dtype=object)"
      ]
     },
     "execution_count": 12,
     "metadata": {},
     "output_type": "execute_result"
    }
   ],
   "source": [
    "df[\"Region\"].unique()"
   ]
  },
  {
   "cell_type": "markdown",
   "id": "9e880bbd",
   "metadata": {},
   "source": [
    "### Creating a dataframe for all regions that contain the word 'Asia'"
   ]
  },
  {
   "cell_type": "code",
   "execution_count": 13,
   "id": "0c4b83e2",
   "metadata": {},
   "outputs": [
    {
     "data": {
      "text/html": [
       "<div>\n",
       "<style scoped>\n",
       "    .dataframe tbody tr th:only-of-type {\n",
       "        vertical-align: middle;\n",
       "    }\n",
       "\n",
       "    .dataframe tbody tr th {\n",
       "        vertical-align: top;\n",
       "    }\n",
       "\n",
       "    .dataframe thead th {\n",
       "        text-align: right;\n",
       "    }\n",
       "</style>\n",
       "<table border=\"1\" class=\"dataframe\">\n",
       "  <thead>\n",
       "    <tr style=\"text-align: right;\">\n",
       "      <th></th>\n",
       "      <th>Country Name</th>\n",
       "      <th>Country Code</th>\n",
       "      <th>Region</th>\n",
       "      <th>IncomeGroup</th>\n",
       "      <th>Year</th>\n",
       "      <th>Life Expectancy World Bank</th>\n",
       "      <th>Prevelance of Undernourishment</th>\n",
       "      <th>CO2</th>\n",
       "      <th>Health Expenditure %</th>\n",
       "      <th>Education Expenditure %</th>\n",
       "      <th>Unemployment</th>\n",
       "      <th>Corruption</th>\n",
       "      <th>Sanitation</th>\n",
       "      <th>Injuries</th>\n",
       "      <th>Communicable</th>\n",
       "      <th>NonCommunicable</th>\n",
       "    </tr>\n",
       "  </thead>\n",
       "  <tbody>\n",
       "    <tr>\n",
       "      <th>0</th>\n",
       "      <td>Afghanistan</td>\n",
       "      <td>AFG</td>\n",
       "      <td>South Asia</td>\n",
       "      <td>Low income</td>\n",
       "      <td>2001</td>\n",
       "      <td>56.308</td>\n",
       "      <td>47.8</td>\n",
       "      <td>730.0</td>\n",
       "      <td>6.364059</td>\n",
       "      <td>4.589014</td>\n",
       "      <td>10.809000</td>\n",
       "      <td>2.860513</td>\n",
       "      <td>52.738785</td>\n",
       "      <td>2179727.10</td>\n",
       "      <td>9689193.70</td>\n",
       "      <td>5795426.38</td>\n",
       "    </tr>\n",
       "    <tr>\n",
       "      <th>2</th>\n",
       "      <td>Albania</td>\n",
       "      <td>ALB</td>\n",
       "      <td>Europe &amp; Central Asia</td>\n",
       "      <td>Upper middle income</td>\n",
       "      <td>2001</td>\n",
       "      <td>74.288</td>\n",
       "      <td>4.9</td>\n",
       "      <td>3230.0</td>\n",
       "      <td>7.139524</td>\n",
       "      <td>3.458700</td>\n",
       "      <td>18.575001</td>\n",
       "      <td>2.860513</td>\n",
       "      <td>40.520895</td>\n",
       "      <td>117081.67</td>\n",
       "      <td>140894.78</td>\n",
       "      <td>532324.75</td>\n",
       "    </tr>\n",
       "  </tbody>\n",
       "</table>\n",
       "</div>"
      ],
      "text/plain": [
       "  Country Name Country Code                 Region          IncomeGroup  Year  \\\n",
       "0  Afghanistan          AFG             South Asia           Low income  2001   \n",
       "2      Albania          ALB  Europe & Central Asia  Upper middle income  2001   \n",
       "\n",
       "   Life Expectancy World Bank  Prevelance of Undernourishment     CO2  \\\n",
       "0                      56.308                            47.8   730.0   \n",
       "2                      74.288                             4.9  3230.0   \n",
       "\n",
       "   Health Expenditure %  Education Expenditure %  Unemployment  Corruption  \\\n",
       "0              6.364059                 4.589014     10.809000    2.860513   \n",
       "2              7.139524                 3.458700     18.575001    2.860513   \n",
       "\n",
       "   Sanitation    Injuries  Communicable  NonCommunicable  \n",
       "0   52.738785  2179727.10    9689193.70       5795426.38  \n",
       "2   40.520895   117081.67     140894.78        532324.75  "
      ]
     },
     "execution_count": 13,
     "metadata": {},
     "output_type": "execute_result"
    }
   ],
   "source": [
    "asia = df[df[\"Region\"].str.contains(\"Asia\")]\n",
    "asia.head(2)"
   ]
  },
  {
   "cell_type": "code",
   "execution_count": 14,
   "id": "50e806a5",
   "metadata": {},
   "outputs": [
    {
     "data": {
      "text/plain": [
       "Europe & Central Asia    893\n",
       "East Asia & Pacific      513\n",
       "South Asia               152\n",
       "Name: Region, dtype: int64"
      ]
     },
     "execution_count": 14,
     "metadata": {},
     "output_type": "execute_result"
    }
   ],
   "source": [
    "asia[\"Region\"].value_counts()"
   ]
  },
  {
   "cell_type": "code",
   "execution_count": 15,
   "id": "6673568f",
   "metadata": {},
   "outputs": [
    {
     "data": {
      "text/plain": [
       "array(['Afghanistan', 'Albania', 'Andorra', 'Armenia', 'American Samoa',\n",
       "       'Australia', 'Austria', 'Azerbaijan', 'Belgium', 'Bangladesh',\n",
       "       'Bulgaria', 'Bosnia and Herzegovina', 'Belarus', 'Bhutan',\n",
       "       'Switzerland', 'China', 'Cyprus', 'Germany', 'Denmark', 'Spain',\n",
       "       'Estonia', 'Finland', 'Fiji', 'France', 'United Kingdom',\n",
       "       'Georgia', 'Greece', 'Greenland', 'Guam', 'Croatia', 'Hungary',\n",
       "       'Indonesia', 'India', 'Ireland', 'Iceland', 'Italy', 'Japan',\n",
       "       'Kazakhstan', 'Cambodia', 'Kiribati', 'Sri Lanka', 'Lithuania',\n",
       "       'Luxembourg', 'Latvia', 'Monaco', 'Moldova', 'Maldives',\n",
       "       'Marshall Islands', 'North Macedonia', 'Myanmar', 'Montenegro',\n",
       "       'Mongolia', 'Northern Mariana Islands', 'Malaysia', 'Netherlands',\n",
       "       'Norway', 'Nepal', 'Nauru', 'New Zealand', 'Pakistan',\n",
       "       'Philippines', 'Palau', 'Papua New Guinea', 'Poland', 'Portugal',\n",
       "       'Romania', 'Singapore', 'Solomon Islands', 'San Marino', 'Serbia',\n",
       "       'Slovenia', 'Sweden', 'Thailand', 'Tajikistan', 'Turkmenistan',\n",
       "       'Tonga', 'Tuvalu', 'Ukraine', 'Uzbekistan', 'Vietnam', 'Vanuatu',\n",
       "       'Samoa'], dtype=object)"
      ]
     },
     "execution_count": 15,
     "metadata": {},
     "output_type": "execute_result"
    }
   ],
   "source": [
    "asia[\"Country Name\"].unique()"
   ]
  },
  {
   "cell_type": "markdown",
   "id": "d43a761b",
   "metadata": {},
   "source": [
    "As we can see above, this dataframe contains many non-Asian countries. We would need to redefine the regions if we\n",
    "wanted a 'pure' Asia region consisting of Asian countries only."
   ]
  },
  {
   "cell_type": "markdown",
   "id": "72d3ec64",
   "metadata": {},
   "source": [
    "### Looking at the mean of life expectancy, health expenditure and sanitation for the new dataframe"
   ]
  },
  {
   "cell_type": "code",
   "execution_count": 16,
   "id": "0d328b81",
   "metadata": {},
   "outputs": [
    {
     "data": {
      "text/plain": [
       "Life Expectancy World Bank    73.672442\n",
       "Health Expenditure %           6.905625\n",
       "Sanitation                    61.269437\n",
       "dtype: float64"
      ]
     },
     "execution_count": 16,
     "metadata": {},
     "output_type": "execute_result"
    }
   ],
   "source": [
    "asia[[\"Life Expectancy World Bank\", \"Health Expenditure %\", \"Sanitation\"]].mean()"
   ]
  },
  {
   "cell_type": "markdown",
   "id": "7ea445db",
   "metadata": {},
   "source": [
    "### Comparing with the means above with 2019 only"
   ]
  },
  {
   "cell_type": "code",
   "execution_count": 17,
   "id": "f3f715d7",
   "metadata": {},
   "outputs": [
    {
     "data": {
      "text/html": [
       "<div>\n",
       "<style scoped>\n",
       "    .dataframe tbody tr th:only-of-type {\n",
       "        vertical-align: middle;\n",
       "    }\n",
       "\n",
       "    .dataframe tbody tr th {\n",
       "        vertical-align: top;\n",
       "    }\n",
       "\n",
       "    .dataframe thead th {\n",
       "        text-align: right;\n",
       "    }\n",
       "</style>\n",
       "<table border=\"1\" class=\"dataframe\">\n",
       "  <thead>\n",
       "    <tr style=\"text-align: right;\">\n",
       "      <th></th>\n",
       "      <th>Country Name</th>\n",
       "      <th>Country Code</th>\n",
       "      <th>Region</th>\n",
       "      <th>IncomeGroup</th>\n",
       "      <th>Year</th>\n",
       "      <th>Life Expectancy World Bank</th>\n",
       "      <th>Prevelance of Undernourishment</th>\n",
       "      <th>CO2</th>\n",
       "      <th>Health Expenditure %</th>\n",
       "      <th>Education Expenditure %</th>\n",
       "      <th>Unemployment</th>\n",
       "      <th>Corruption</th>\n",
       "      <th>Sanitation</th>\n",
       "      <th>Injuries</th>\n",
       "      <th>Communicable</th>\n",
       "      <th>NonCommunicable</th>\n",
       "    </tr>\n",
       "  </thead>\n",
       "  <tbody>\n",
       "    <tr>\n",
       "      <th>3132</th>\n",
       "      <td>Afghanistan</td>\n",
       "      <td>AFG</td>\n",
       "      <td>South Asia</td>\n",
       "      <td>Low income</td>\n",
       "      <td>2019</td>\n",
       "      <td>64.833</td>\n",
       "      <td>26.9</td>\n",
       "      <td>6079.999924</td>\n",
       "      <td>13.242202</td>\n",
       "      <td>3.21378</td>\n",
       "      <td>11.217</td>\n",
       "      <td>2.000000</td>\n",
       "      <td>52.738785</td>\n",
       "      <td>3481166.42</td>\n",
       "      <td>6034434.86</td>\n",
       "      <td>7601757.82</td>\n",
       "    </tr>\n",
       "    <tr>\n",
       "      <th>3134</th>\n",
       "      <td>Albania</td>\n",
       "      <td>ALB</td>\n",
       "      <td>Europe &amp; Central Asia</td>\n",
       "      <td>Upper middle income</td>\n",
       "      <td>2019</td>\n",
       "      <td>78.573</td>\n",
       "      <td>4.3</td>\n",
       "      <td>4829.999924</td>\n",
       "      <td>6.364059</td>\n",
       "      <td>3.91665</td>\n",
       "      <td>11.470</td>\n",
       "      <td>2.860513</td>\n",
       "      <td>47.577141</td>\n",
       "      <td>82288.10</td>\n",
       "      <td>51797.42</td>\n",
       "      <td>631629.88</td>\n",
       "    </tr>\n",
       "  </tbody>\n",
       "</table>\n",
       "</div>"
      ],
      "text/plain": [
       "     Country Name Country Code                 Region          IncomeGroup  \\\n",
       "3132  Afghanistan          AFG             South Asia           Low income   \n",
       "3134      Albania          ALB  Europe & Central Asia  Upper middle income   \n",
       "\n",
       "      Year  Life Expectancy World Bank  Prevelance of Undernourishment  \\\n",
       "3132  2019                      64.833                            26.9   \n",
       "3134  2019                      78.573                             4.3   \n",
       "\n",
       "              CO2  Health Expenditure %  Education Expenditure %  \\\n",
       "3132  6079.999924             13.242202                  3.21378   \n",
       "3134  4829.999924              6.364059                  3.91665   \n",
       "\n",
       "      Unemployment  Corruption  Sanitation    Injuries  Communicable  \\\n",
       "3132        11.217    2.000000   52.738785  3481166.42    6034434.86   \n",
       "3134        11.470    2.860513   47.577141    82288.10      51797.42   \n",
       "\n",
       "      NonCommunicable  \n",
       "3132       7601757.82  \n",
       "3134        631629.88  "
      ]
     },
     "execution_count": 17,
     "metadata": {},
     "output_type": "execute_result"
    }
   ],
   "source": [
    "asia_2019 = asia[asia[\"Year\"] == 2019]\n",
    "asia_2019.head(2)"
   ]
  },
  {
   "cell_type": "code",
   "execution_count": 18,
   "id": "63958930",
   "metadata": {},
   "outputs": [
    {
     "data": {
      "text/plain": [
       "Life Expectancy World Bank    75.584259\n",
       "Health Expenditure %           7.341037\n",
       "Sanitation                    66.080276\n",
       "dtype: float64"
      ]
     },
     "execution_count": 18,
     "metadata": {},
     "output_type": "execute_result"
    }
   ],
   "source": [
    "asia_2019[[\"Life Expectancy World Bank\", \"Health Expenditure %\", \"Sanitation\"]].mean()"
   ]
  },
  {
   "cell_type": "markdown",
   "id": "4bd098f2",
   "metadata": {},
   "source": [
    "### Looking at the count of each income group for the asia_2019 dataframe"
   ]
  },
  {
   "cell_type": "code",
   "execution_count": 19,
   "id": "504c820f",
   "metadata": {},
   "outputs": [
    {
     "data": {
      "text/plain": [
       "High income            38\n",
       "Upper middle income    23\n",
       "Lower middle income    20\n",
       "Low income              1\n",
       "Name: IncomeGroup, dtype: int64"
      ]
     },
     "execution_count": 19,
     "metadata": {},
     "output_type": "execute_result"
    }
   ],
   "source": [
    "asia_2019[\"IncomeGroup\"].value_counts()"
   ]
  },
  {
   "cell_type": "code",
   "execution_count": 20,
   "id": "376d8774",
   "metadata": {},
   "outputs": [
    {
     "data": {
      "text/plain": [
       "<AxesSubplot: xlabel='count', ylabel='IncomeGroup'>"
      ]
     },
     "execution_count": 20,
     "metadata": {},
     "output_type": "execute_result"
    },
    {
     "data": {
      "image/png": "[encoded data removed]",
      "text/plain": [
       "<Figure size 640x480 with 1 Axes>"
      ]
     },
     "metadata": {},
     "output_type": "display_data"
    }
   ],
   "source": [
    "sns.countplot(data=asia_2019, y=\"IncomeGroup\")"
   ]
  },
  {
   "cell_type": "markdown",
   "id": "5bb7c7fa",
   "metadata": {},
   "source": [
    "### Which Country was low income?"
   ]
  },
  {
   "cell_type": "code",
   "execution_count": 21,
   "id": "9f3bbce2",
   "metadata": {},
   "outputs": [
    {
     "data": {
      "text/plain": [
       "3132    Afghanistan\n",
       "Name: Country Name, dtype: object"
      ]
     },
     "execution_count": 21,
     "metadata": {},
     "output_type": "execute_result"
    }
   ],
   "source": [
    "asia_2019[asia_2019[\"IncomeGroup\"] == \"Low income\"][\"Country Name\"]"
   ]
  },
  {
   "cell_type": "markdown",
   "id": "72f5296f",
   "metadata": {},
   "source": [
    "### How has the life expectancy changed over the last 5 years in the original dataframe"
   ]
  },
  {
   "cell_type": "code",
   "execution_count": 22,
   "id": "69a6c1a9",
   "metadata": {},
   "outputs": [
    {
     "data": {
      "text/plain": [
       "array([2015, 2016, 2017, 2018, 2019], dtype=int64)"
      ]
     },
     "execution_count": 22,
     "metadata": {},
     "output_type": "execute_result"
    }
   ],
   "source": [
    "df[\"Year\"].unique()[-5:]"
   ]
  },
  {
   "cell_type": "code",
   "execution_count": 23,
   "id": "7fa71af2",
   "metadata": {},
   "outputs": [
    {
     "data": {
      "text/html": [
       "<div>\n",
       "<style scoped>\n",
       "    .dataframe tbody tr th:only-of-type {\n",
       "        vertical-align: middle;\n",
       "    }\n",
       "\n",
       "    .dataframe tbody tr th {\n",
       "        vertical-align: top;\n",
       "    }\n",
       "\n",
       "    .dataframe thead th {\n",
       "        text-align: right;\n",
       "    }\n",
       "</style>\n",
       "<table border=\"1\" class=\"dataframe\">\n",
       "  <thead>\n",
       "    <tr style=\"text-align: right;\">\n",
       "      <th></th>\n",
       "      <th>Country Name</th>\n",
       "      <th>Country Code</th>\n",
       "      <th>Region</th>\n",
       "      <th>IncomeGroup</th>\n",
       "      <th>Year</th>\n",
       "      <th>Life Expectancy World Bank</th>\n",
       "      <th>Prevelance of Undernourishment</th>\n",
       "      <th>CO2</th>\n",
       "      <th>Health Expenditure %</th>\n",
       "      <th>Education Expenditure %</th>\n",
       "      <th>Unemployment</th>\n",
       "      <th>Corruption</th>\n",
       "      <th>Sanitation</th>\n",
       "      <th>Injuries</th>\n",
       "      <th>Communicable</th>\n",
       "      <th>NonCommunicable</th>\n",
       "    </tr>\n",
       "  </thead>\n",
       "  <tbody>\n",
       "    <tr>\n",
       "      <th>2436</th>\n",
       "      <td>Afghanistan</td>\n",
       "      <td>AFG</td>\n",
       "      <td>South Asia</td>\n",
       "      <td>Low income</td>\n",
       "      <td>2015</td>\n",
       "      <td>63.377</td>\n",
       "      <td>21.5</td>\n",
       "      <td>5949.999809</td>\n",
       "      <td>10.105348</td>\n",
       "      <td>3.255800</td>\n",
       "      <td>11.127</td>\n",
       "      <td>2.000000</td>\n",
       "      <td>52.738785</td>\n",
       "      <td>3673696.62</td>\n",
       "      <td>6528888.62</td>\n",
       "      <td>6988545.28</td>\n",
       "    </tr>\n",
       "    <tr>\n",
       "      <th>2437</th>\n",
       "      <td>Angola</td>\n",
       "      <td>AGO</td>\n",
       "      <td>Sub-Saharan Africa</td>\n",
       "      <td>Lower middle income</td>\n",
       "      <td>2015</td>\n",
       "      <td>59.398</td>\n",
       "      <td>14.5</td>\n",
       "      <td>31649.999619</td>\n",
       "      <td>2.605795</td>\n",
       "      <td>3.486896</td>\n",
       "      <td>7.392</td>\n",
       "      <td>2.860513</td>\n",
       "      <td>52.738785</td>\n",
       "      <td>1176597.19</td>\n",
       "      <td>8056503.17</td>\n",
       "      <td>3778744.40</td>\n",
       "    </tr>\n",
       "  </tbody>\n",
       "</table>\n",
       "</div>"
      ],
      "text/plain": [
       "     Country Name Country Code              Region          IncomeGroup  Year  \\\n",
       "2436  Afghanistan          AFG          South Asia           Low income  2015   \n",
       "2437       Angola          AGO  Sub-Saharan Africa  Lower middle income  2015   \n",
       "\n",
       "      Life Expectancy World Bank  Prevelance of Undernourishment  \\\n",
       "2436                      63.377                            21.5   \n",
       "2437                      59.398                            14.5   \n",
       "\n",
       "               CO2  Health Expenditure %  Education Expenditure %  \\\n",
       "2436   5949.999809             10.105348                 3.255800   \n",
       "2437  31649.999619              2.605795                 3.486896   \n",
       "\n",
       "      Unemployment  Corruption  Sanitation    Injuries  Communicable  \\\n",
       "2436        11.127    2.000000   52.738785  3673696.62    6528888.62   \n",
       "2437         7.392    2.860513   52.738785  1176597.19    8056503.17   \n",
       "\n",
       "      NonCommunicable  \n",
       "2436       6988545.28  \n",
       "2437       3778744.40  "
      ]
     },
     "execution_count": 23,
     "metadata": {},
     "output_type": "execute_result"
    }
   ],
   "source": [
    "last_5_years = df[df[\"Year\"] >= df[\"Year\"].max() - 4]\n",
    "last_5_years.head(2)"
   ]
  },
  {
   "cell_type": "code",
   "execution_count": 24,
   "id": "435441ea",
   "metadata": {},
   "outputs": [
    {
     "data": {
      "text/plain": [
       "array([2015, 2016, 2017, 2018, 2019], dtype=int64)"
      ]
     },
     "execution_count": 24,
     "metadata": {},
     "output_type": "execute_result"
    }
   ],
   "source": [
    "last_5_years[\"Year\"].unique()"
   ]
  },
  {
   "cell_type": "code",
   "execution_count": 25,
   "id": "b557e516",
   "metadata": {},
   "outputs": [
    {
     "data": {
      "text/plain": [
       "Year\n",
       "2015    71.488899\n",
       "2016    71.766221\n",
       "2017    71.988161\n",
       "2018    72.199052\n",
       "2019    72.425850\n",
       "Name: Life Expectancy World Bank, dtype: float64"
      ]
     },
     "execution_count": 25,
     "metadata": {},
     "output_type": "execute_result"
    }
   ],
   "source": [
    "last_5_years.groupby(\"Year\")[\"Life Expectancy World Bank\"].mean()"
   ]
  },
  {
   "cell_type": "code",
   "execution_count": 26,
   "id": "b3f2d069",
   "metadata": {},
   "outputs": [
    {
     "data": {
      "text/plain": [
       "([<matplotlib.axis.XTick at 0x230ede4edd0>,\n",
       "  <matplotlib.axis.XTick at 0x230ede4eda0>,\n",
       "  <matplotlib.axis.XTick at 0x230ede4c4f0>,\n",
       "  <matplotlib.axis.XTick at 0x230ee668700>,\n",
       "  <matplotlib.axis.XTick at 0x230ee6691b0>],\n",
       " [Text(2015, 0, '2015'),\n",
       "  Text(2016, 0, '2016'),\n",
       "  Text(2017, 0, '2017'),\n",
       "  Text(2018, 0, '2018'),\n",
       "  Text(2019, 0, '2019')])"
      ]
     },
     "execution_count": 26,
     "metadata": {},
     "output_type": "execute_result"
    },
    {
     "data": {
      "image/png": "[encoded data removed]",
      "text/plain": [
       "<Figure size 640x480 with 1 Axes>"
      ]
     },
     "metadata": {},
     "output_type": "display_data"
    }
   ],
   "source": [
    "ax = sns.lineplot(last_5_years, x=\"Year\", y=\"Life Expectancy World Bank\", errorbar=(\"ci\", False))\n",
    "\n",
    "plt.xticks([2015, 2016, 2017, 2018, 2019])"
   ]
  },
  {
   "cell_type": "code",
   "execution_count": 27,
   "id": "51638fdf",
   "metadata": {},
   "outputs": [
    {
     "data": {
      "text/plain": [
       "array([2010, 2011, 2012, 2013, 2014, 2015, 2016, 2017, 2018, 2019],\n",
       "      dtype=int64)"
      ]
     },
     "execution_count": 27,
     "metadata": {},
     "output_type": "execute_result"
    }
   ],
   "source": [
    "df[\"Year\"].unique()[-10:]"
   ]
  },
  {
   "cell_type": "markdown",
   "id": "f899009b",
   "metadata": {},
   "source": [
    "### How has life expectancy changed over the last 10 years for Angola"
   ]
  },
  {
   "cell_type": "code",
   "execution_count": 28,
   "id": "8d54f1df",
   "metadata": {},
   "outputs": [
    {
     "data": {
      "text/html": [
       "<div>\n",
       "<style scoped>\n",
       "    .dataframe tbody tr th:only-of-type {\n",
       "        vertical-align: middle;\n",
       "    }\n",
       "\n",
       "    .dataframe tbody tr th {\n",
       "        vertical-align: top;\n",
       "    }\n",
       "\n",
       "    .dataframe thead th {\n",
       "        text-align: right;\n",
       "    }\n",
       "</style>\n",
       "<table border=\"1\" class=\"dataframe\">\n",
       "  <thead>\n",
       "    <tr style=\"text-align: right;\">\n",
       "      <th></th>\n",
       "      <th>Country Name</th>\n",
       "      <th>Country Code</th>\n",
       "      <th>Region</th>\n",
       "      <th>IncomeGroup</th>\n",
       "      <th>Year</th>\n",
       "      <th>Life Expectancy World Bank</th>\n",
       "      <th>Prevelance of Undernourishment</th>\n",
       "      <th>CO2</th>\n",
       "      <th>Health Expenditure %</th>\n",
       "      <th>Education Expenditure %</th>\n",
       "      <th>Unemployment</th>\n",
       "      <th>Corruption</th>\n",
       "      <th>Sanitation</th>\n",
       "      <th>Injuries</th>\n",
       "      <th>Communicable</th>\n",
       "      <th>NonCommunicable</th>\n",
       "    </tr>\n",
       "  </thead>\n",
       "  <tbody>\n",
       "    <tr>\n",
       "      <th>1567</th>\n",
       "      <td>Angola</td>\n",
       "      <td>AGO</td>\n",
       "      <td>Sub-Saharan Africa</td>\n",
       "      <td>Lower middle income</td>\n",
       "      <td>2010</td>\n",
       "      <td>55.350</td>\n",
       "      <td>23.9</td>\n",
       "      <td>22799.999237</td>\n",
       "      <td>2.695100</td>\n",
       "      <td>3.421320</td>\n",
       "      <td>9.430</td>\n",
       "      <td>2.500000</td>\n",
       "      <td>52.738785</td>\n",
       "      <td>1267430.98</td>\n",
       "      <td>9369345.53</td>\n",
       "      <td>3427812.06</td>\n",
       "    </tr>\n",
       "    <tr>\n",
       "      <th>1741</th>\n",
       "      <td>Angola</td>\n",
       "      <td>AGO</td>\n",
       "      <td>Sub-Saharan Africa</td>\n",
       "      <td>Lower middle income</td>\n",
       "      <td>2011</td>\n",
       "      <td>56.330</td>\n",
       "      <td>16.4</td>\n",
       "      <td>23870.000839</td>\n",
       "      <td>2.645608</td>\n",
       "      <td>3.030000</td>\n",
       "      <td>7.360</td>\n",
       "      <td>2.500000</td>\n",
       "      <td>52.738785</td>\n",
       "      <td>1263108.34</td>\n",
       "      <td>9114917.42</td>\n",
       "      <td>3506251.22</td>\n",
       "    </tr>\n",
       "    <tr>\n",
       "      <th>1915</th>\n",
       "      <td>Angola</td>\n",
       "      <td>AGO</td>\n",
       "      <td>Sub-Saharan Africa</td>\n",
       "      <td>Lower middle income</td>\n",
       "      <td>2012</td>\n",
       "      <td>57.236</td>\n",
       "      <td>15.1</td>\n",
       "      <td>23870.000839</td>\n",
       "      <td>2.395750</td>\n",
       "      <td>3.081911</td>\n",
       "      <td>7.347</td>\n",
       "      <td>2.500000</td>\n",
       "      <td>52.738785</td>\n",
       "      <td>1245939.46</td>\n",
       "      <td>8866604.66</td>\n",
       "      <td>3590872.46</td>\n",
       "    </tr>\n",
       "    <tr>\n",
       "      <th>2089</th>\n",
       "      <td>Angola</td>\n",
       "      <td>AGO</td>\n",
       "      <td>Sub-Saharan Africa</td>\n",
       "      <td>Lower middle income</td>\n",
       "      <td>2013</td>\n",
       "      <td>58.054</td>\n",
       "      <td>14.3</td>\n",
       "      <td>26959.999084</td>\n",
       "      <td>2.732828</td>\n",
       "      <td>4.438950</td>\n",
       "      <td>7.366</td>\n",
       "      <td>2.500000</td>\n",
       "      <td>52.738785</td>\n",
       "      <td>1215812.93</td>\n",
       "      <td>8611584.35</td>\n",
       "      <td>3654037.29</td>\n",
       "    </tr>\n",
       "    <tr>\n",
       "      <th>2263</th>\n",
       "      <td>Angola</td>\n",
       "      <td>AGO</td>\n",
       "      <td>Sub-Saharan Africa</td>\n",
       "      <td>Lower middle income</td>\n",
       "      <td>2014</td>\n",
       "      <td>58.776</td>\n",
       "      <td>13.7</td>\n",
       "      <td>29629.999161</td>\n",
       "      <td>2.434129</td>\n",
       "      <td>3.122918</td>\n",
       "      <td>7.372</td>\n",
       "      <td>2.860513</td>\n",
       "      <td>52.738785</td>\n",
       "      <td>1182079.97</td>\n",
       "      <td>8309452.09</td>\n",
       "      <td>3692435.18</td>\n",
       "    </tr>\n",
       "    <tr>\n",
       "      <th>2437</th>\n",
       "      <td>Angola</td>\n",
       "      <td>AGO</td>\n",
       "      <td>Sub-Saharan Africa</td>\n",
       "      <td>Lower middle income</td>\n",
       "      <td>2015</td>\n",
       "      <td>59.398</td>\n",
       "      <td>14.5</td>\n",
       "      <td>31649.999619</td>\n",
       "      <td>2.605795</td>\n",
       "      <td>3.486896</td>\n",
       "      <td>7.392</td>\n",
       "      <td>2.860513</td>\n",
       "      <td>52.738785</td>\n",
       "      <td>1176597.19</td>\n",
       "      <td>8056503.17</td>\n",
       "      <td>3778744.40</td>\n",
       "    </tr>\n",
       "    <tr>\n",
       "      <th>2611</th>\n",
       "      <td>Angola</td>\n",
       "      <td>AGO</td>\n",
       "      <td>Sub-Saharan Africa</td>\n",
       "      <td>Lower middle income</td>\n",
       "      <td>2016</td>\n",
       "      <td>59.925</td>\n",
       "      <td>15.4</td>\n",
       "      <td>29760.000229</td>\n",
       "      <td>2.713149</td>\n",
       "      <td>2.754936</td>\n",
       "      <td>7.412</td>\n",
       "      <td>2.860513</td>\n",
       "      <td>52.738785</td>\n",
       "      <td>1151526.25</td>\n",
       "      <td>7928961.23</td>\n",
       "      <td>3845106.11</td>\n",
       "    </tr>\n",
       "    <tr>\n",
       "      <th>2785</th>\n",
       "      <td>Angola</td>\n",
       "      <td>AGO</td>\n",
       "      <td>Sub-Saharan Africa</td>\n",
       "      <td>Lower middle income</td>\n",
       "      <td>2017</td>\n",
       "      <td>60.379</td>\n",
       "      <td>15.4</td>\n",
       "      <td>24250.000000</td>\n",
       "      <td>2.791503</td>\n",
       "      <td>2.466879</td>\n",
       "      <td>7.408</td>\n",
       "      <td>2.860513</td>\n",
       "      <td>52.738785</td>\n",
       "      <td>1155447.76</td>\n",
       "      <td>7697608.85</td>\n",
       "      <td>3949010.17</td>\n",
       "    </tr>\n",
       "    <tr>\n",
       "      <th>2959</th>\n",
       "      <td>Angola</td>\n",
       "      <td>AGO</td>\n",
       "      <td>Sub-Saharan Africa</td>\n",
       "      <td>Lower middle income</td>\n",
       "      <td>2018</td>\n",
       "      <td>60.782</td>\n",
       "      <td>15.7</td>\n",
       "      <td>23959.999084</td>\n",
       "      <td>2.540102</td>\n",
       "      <td>2.044701</td>\n",
       "      <td>7.421</td>\n",
       "      <td>2.860513</td>\n",
       "      <td>52.738785</td>\n",
       "      <td>1158963.53</td>\n",
       "      <td>7474999.86</td>\n",
       "      <td>4055077.37</td>\n",
       "    </tr>\n",
       "    <tr>\n",
       "      <th>3133</th>\n",
       "      <td>Angola</td>\n",
       "      <td>AGO</td>\n",
       "      <td>Sub-Saharan Africa</td>\n",
       "      <td>Lower middle income</td>\n",
       "      <td>2019</td>\n",
       "      <td>61.147</td>\n",
       "      <td>17.9</td>\n",
       "      <td>25209.999084</td>\n",
       "      <td>2.533360</td>\n",
       "      <td>1.927457</td>\n",
       "      <td>7.421</td>\n",
       "      <td>2.860513</td>\n",
       "      <td>52.738785</td>\n",
       "      <td>1168866.00</td>\n",
       "      <td>7237433.13</td>\n",
       "      <td>4176568.27</td>\n",
       "    </tr>\n",
       "  </tbody>\n",
       "</table>\n",
       "</div>"
      ],
      "text/plain": [
       "     Country Name Country Code              Region          IncomeGroup  Year  \\\n",
       "1567       Angola          AGO  Sub-Saharan Africa  Lower middle income  2010   \n",
       "1741       Angola          AGO  Sub-Saharan Africa  Lower middle income  2011   \n",
       "1915       Angola          AGO  Sub-Saharan Africa  Lower middle income  2012   \n",
       "2089       Angola          AGO  Sub-Saharan Africa  Lower middle income  2013   \n",
       "2263       Angola          AGO  Sub-Saharan Africa  Lower middle income  2014   \n",
       "2437       Angola          AGO  Sub-Saharan Africa  Lower middle income  2015   \n",
       "2611       Angola          AGO  Sub-Saharan Africa  Lower middle income  2016   \n",
       "2785       Angola          AGO  Sub-Saharan Africa  Lower middle income  2017   \n",
       "2959       Angola          AGO  Sub-Saharan Africa  Lower middle income  2018   \n",
       "3133       Angola          AGO  Sub-Saharan Africa  Lower middle income  2019   \n",
       "\n",
       "      Life Expectancy World Bank  Prevelance of Undernourishment  \\\n",
       "1567                      55.350                            23.9   \n",
       "1741                      56.330                            16.4   \n",
       "1915                      57.236                            15.1   \n",
       "2089                      58.054                            14.3   \n",
       "2263                      58.776                            13.7   \n",
       "2437                      59.398                            14.5   \n",
       "2611                      59.925                            15.4   \n",
       "2785                      60.379                            15.4   \n",
       "2959                      60.782                            15.7   \n",
       "3133                      61.147                            17.9   \n",
       "\n",
       "               CO2  Health Expenditure %  Education Expenditure %  \\\n",
       "1567  22799.999237              2.695100                 3.421320   \n",
       "1741  23870.000839              2.645608                 3.030000   \n",
       "1915  23870.000839              2.395750                 3.081911   \n",
       "2089  26959.999084              2.732828                 4.438950   \n",
       "2263  29629.999161              2.434129                 3.122918   \n",
       "2437  31649.999619              2.605795                 3.486896   \n",
       "2611  29760.000229              2.713149                 2.754936   \n",
       "2785  24250.000000              2.791503                 2.466879   \n",
       "2959  23959.999084              2.540102                 2.044701   \n",
       "3133  25209.999084              2.533360                 1.927457   \n",
       "\n",
       "      Unemployment  Corruption  Sanitation    Injuries  Communicable  \\\n",
       "1567         9.430    2.500000   52.738785  1267430.98    9369345.53   \n",
       "1741         7.360    2.500000   52.738785  1263108.34    9114917.42   \n",
       "1915         7.347    2.500000   52.738785  1245939.46    8866604.66   \n",
       "2089         7.366    2.500000   52.738785  1215812.93    8611584.35   \n",
       "2263         7.372    2.860513   52.738785  1182079.97    8309452.09   \n",
       "2437         7.392    2.860513   52.738785  1176597.19    8056503.17   \n",
       "2611         7.412    2.860513   52.738785  1151526.25    7928961.23   \n",
       "2785         7.408    2.860513   52.738785  1155447.76    7697608.85   \n",
       "2959         7.421    2.860513   52.738785  1158963.53    7474999.86   \n",
       "3133         7.421    2.860513   52.738785  1168866.00    7237433.13   \n",
       "\n",
       "      NonCommunicable  \n",
       "1567       3427812.06  \n",
       "1741       3506251.22  \n",
       "1915       3590872.46  \n",
       "2089       3654037.29  \n",
       "2263       3692435.18  \n",
       "2437       3778744.40  \n",
       "2611       3845106.11  \n",
       "2785       3949010.17  \n",
       "2959       4055077.37  \n",
       "3133       4176568.27  "
      ]
     },
     "execution_count": 28,
     "metadata": {},
     "output_type": "execute_result"
    }
   ],
   "source": [
    "angola_10yr = df[(df[\"Year\"] >= 2010) & (df[\"Country Name\"] == \"Angola\")]\n",
    "angola_10yr"
   ]
  },
  {
   "cell_type": "code",
   "execution_count": 29,
   "id": "8ca55ba2",
   "metadata": {},
   "outputs": [
    {
     "data": {
      "text/plain": [
       "<AxesSubplot: xlabel='Year', ylabel='Life Expectancy World Bank'>"
      ]
     },
     "execution_count": 29,
     "metadata": {},
     "output_type": "execute_result"
    },
    {
     "data": {
      "image/png": "[encoded data removed]",
      "text/plain": [
       "<Figure size 640x480 with 1 Axes>"
      ]
     },
     "metadata": {},
     "output_type": "display_data"
    }
   ],
   "source": [
    "sns.lineplot(angola_10yr, x=\"Year\", y=\"Life Expectancy World Bank\")"
   ]
  },
  {
   "cell_type": "markdown",
   "id": "6917cbea",
   "metadata": {},
   "source": [
    "### What is the life expectancy for each South Asian country in 2019"
   ]
  },
  {
   "cell_type": "code",
   "execution_count": 30,
   "id": "f2fa76e9",
   "metadata": {},
   "outputs": [
    {
     "data": {
      "text/plain": [
       "Region\n",
       "East Asia & Pacific           27\n",
       "Europe & Central Asia         47\n",
       "Latin America & Caribbean     29\n",
       "Middle East & North Africa    16\n",
       "North America                  3\n",
       "South Asia                     8\n",
       "Sub-Saharan Africa            44\n",
       "Name: Country Name, dtype: int64"
      ]
     },
     "execution_count": 30,
     "metadata": {},
     "output_type": "execute_result"
    }
   ],
   "source": [
    "df.groupby(\"Region\")[\"Country Name\"].nunique()"
   ]
  },
  {
   "cell_type": "code",
   "execution_count": 31,
   "id": "c97883ab",
   "metadata": {},
   "outputs": [
    {
     "data": {
      "text/html": [
       "<div>\n",
       "<style scoped>\n",
       "    .dataframe tbody tr th:only-of-type {\n",
       "        vertical-align: middle;\n",
       "    }\n",
       "\n",
       "    .dataframe tbody tr th {\n",
       "        vertical-align: top;\n",
       "    }\n",
       "\n",
       "    .dataframe thead th {\n",
       "        text-align: right;\n",
       "    }\n",
       "</style>\n",
       "<table border=\"1\" class=\"dataframe\">\n",
       "  <thead>\n",
       "    <tr style=\"text-align: right;\">\n",
       "      <th></th>\n",
       "      <th>Country Name</th>\n",
       "      <th>Country Code</th>\n",
       "      <th>Region</th>\n",
       "      <th>IncomeGroup</th>\n",
       "      <th>Year</th>\n",
       "      <th>Life Expectancy World Bank</th>\n",
       "      <th>Prevelance of Undernourishment</th>\n",
       "      <th>CO2</th>\n",
       "      <th>Health Expenditure %</th>\n",
       "      <th>Education Expenditure %</th>\n",
       "      <th>Unemployment</th>\n",
       "      <th>Corruption</th>\n",
       "      <th>Sanitation</th>\n",
       "      <th>Injuries</th>\n",
       "      <th>Communicable</th>\n",
       "      <th>NonCommunicable</th>\n",
       "    </tr>\n",
       "  </thead>\n",
       "  <tbody>\n",
       "    <tr>\n",
       "      <th>3132</th>\n",
       "      <td>Afghanistan</td>\n",
       "      <td>AFG</td>\n",
       "      <td>South Asia</td>\n",
       "      <td>Low income</td>\n",
       "      <td>2019</td>\n",
       "      <td>64.833</td>\n",
       "      <td>26.900000</td>\n",
       "      <td>6.080000e+03</td>\n",
       "      <td>13.242202</td>\n",
       "      <td>3.213780</td>\n",
       "      <td>11.217</td>\n",
       "      <td>2.000000</td>\n",
       "      <td>52.738785</td>\n",
       "      <td>3481166.42</td>\n",
       "      <td>6.034435e+06</td>\n",
       "      <td>7.601758e+06</td>\n",
       "    </tr>\n",
       "    <tr>\n",
       "      <th>3148</th>\n",
       "      <td>Bangladesh</td>\n",
       "      <td>BGD</td>\n",
       "      <td>South Asia</td>\n",
       "      <td>Lower middle income</td>\n",
       "      <td>2019</td>\n",
       "      <td>72.591</td>\n",
       "      <td>11.000000</td>\n",
       "      <td>9.074000e+04</td>\n",
       "      <td>2.483576</td>\n",
       "      <td>1.326320</td>\n",
       "      <td>4.438</td>\n",
       "      <td>2.500000</td>\n",
       "      <td>37.684884</td>\n",
       "      <td>3193719.60</td>\n",
       "      <td>1.167252e+07</td>\n",
       "      <td>2.825667e+07</td>\n",
       "    </tr>\n",
       "    <tr>\n",
       "      <th>3158</th>\n",
       "      <td>Bhutan</td>\n",
       "      <td>BTN</td>\n",
       "      <td>South Asia</td>\n",
       "      <td>Lower middle income</td>\n",
       "      <td>2019</td>\n",
       "      <td>71.777</td>\n",
       "      <td>10.663654</td>\n",
       "      <td>1.050000e+03</td>\n",
       "      <td>3.607616</td>\n",
       "      <td>5.675892</td>\n",
       "      <td>2.502</td>\n",
       "      <td>4.500000</td>\n",
       "      <td>64.630026</td>\n",
       "      <td>19966.53</td>\n",
       "      <td>6.109057e+04</td>\n",
       "      <td>1.329178e+05</td>\n",
       "    </tr>\n",
       "    <tr>\n",
       "      <th>3204</th>\n",
       "      <td>India</td>\n",
       "      <td>IND</td>\n",
       "      <td>South Asia</td>\n",
       "      <td>Lower middle income</td>\n",
       "      <td>2019</td>\n",
       "      <td>69.656</td>\n",
       "      <td>14.600000</td>\n",
       "      <td>2.456300e+06</td>\n",
       "      <td>3.014147</td>\n",
       "      <td>4.407230</td>\n",
       "      <td>5.270</td>\n",
       "      <td>2.860513</td>\n",
       "      <td>43.904290</td>\n",
       "      <td>53563909.73</td>\n",
       "      <td>1.432145e+08</td>\n",
       "      <td>2.710974e+08</td>\n",
       "    </tr>\n",
       "    <tr>\n",
       "      <th>3221</th>\n",
       "      <td>Sri Lanka</td>\n",
       "      <td>LKA</td>\n",
       "      <td>South Asia</td>\n",
       "      <td>Lower middle income</td>\n",
       "      <td>2019</td>\n",
       "      <td>76.978</td>\n",
       "      <td>3.700000</td>\n",
       "      <td>2.378000e+04</td>\n",
       "      <td>4.079797</td>\n",
       "      <td>1.930000</td>\n",
       "      <td>4.350</td>\n",
       "      <td>3.000000</td>\n",
       "      <td>52.738785</td>\n",
       "      <td>747286.53</td>\n",
       "      <td>5.612344e+05</td>\n",
       "      <td>4.412887e+06</td>\n",
       "    </tr>\n",
       "    <tr>\n",
       "      <th>3230</th>\n",
       "      <td>Maldives</td>\n",
       "      <td>MDV</td>\n",
       "      <td>South Asia</td>\n",
       "      <td>Upper middle income</td>\n",
       "      <td>2019</td>\n",
       "      <td>78.921</td>\n",
       "      <td>10.663654</td>\n",
       "      <td>2.110000e+03</td>\n",
       "      <td>8.040011</td>\n",
       "      <td>4.121590</td>\n",
       "      <td>5.340</td>\n",
       "      <td>3.000000</td>\n",
       "      <td>52.738785</td>\n",
       "      <td>8122.28</td>\n",
       "      <td>1.599500e+04</td>\n",
       "      <td>6.672047e+04</td>\n",
       "    </tr>\n",
       "    <tr>\n",
       "      <th>3251</th>\n",
       "      <td>Nepal</td>\n",
       "      <td>NPL</td>\n",
       "      <td>South Asia</td>\n",
       "      <td>Lower middle income</td>\n",
       "      <td>2019</td>\n",
       "      <td>70.778</td>\n",
       "      <td>4.800000</td>\n",
       "      <td>1.345000e+04</td>\n",
       "      <td>4.445151</td>\n",
       "      <td>4.240000</td>\n",
       "      <td>3.097</td>\n",
       "      <td>3.000000</td>\n",
       "      <td>45.516779</td>\n",
       "      <td>888008.10</td>\n",
       "      <td>2.715000e+06</td>\n",
       "      <td>5.685683e+06</td>\n",
       "    </tr>\n",
       "    <tr>\n",
       "      <th>3255</th>\n",
       "      <td>Pakistan</td>\n",
       "      <td>PAK</td>\n",
       "      <td>South Asia</td>\n",
       "      <td>Lower middle income</td>\n",
       "      <td>2019</td>\n",
       "      <td>67.273</td>\n",
       "      <td>14.100000</td>\n",
       "      <td>1.905700e+05</td>\n",
       "      <td>3.379927</td>\n",
       "      <td>2.507550</td>\n",
       "      <td>3.542</td>\n",
       "      <td>3.000000</td>\n",
       "      <td>52.738785</td>\n",
       "      <td>5979739.34</td>\n",
       "      <td>4.706299e+07</td>\n",
       "      <td>4.119615e+07</td>\n",
       "    </tr>\n",
       "  </tbody>\n",
       "</table>\n",
       "</div>"
      ],
      "text/plain": [
       "     Country Name Country Code      Region          IncomeGroup  Year  \\\n",
       "3132  Afghanistan          AFG  South Asia           Low income  2019   \n",
       "3148   Bangladesh          BGD  South Asia  Lower middle income  2019   \n",
       "3158       Bhutan          BTN  South Asia  Lower middle income  2019   \n",
       "3204        India          IND  South Asia  Lower middle income  2019   \n",
       "3221    Sri Lanka          LKA  South Asia  Lower middle income  2019   \n",
       "3230     Maldives          MDV  South Asia  Upper middle income  2019   \n",
       "3251        Nepal          NPL  South Asia  Lower middle income  2019   \n",
       "3255     Pakistan          PAK  South Asia  Lower middle income  2019   \n",
       "\n",
       "      Life Expectancy World Bank  Prevelance of Undernourishment  \\\n",
       "3132                      64.833                       26.900000   \n",
       "3148                      72.591                       11.000000   \n",
       "3158                      71.777                       10.663654   \n",
       "3204                      69.656                       14.600000   \n",
       "3221                      76.978                        3.700000   \n",
       "3230                      78.921                       10.663654   \n",
       "3251                      70.778                        4.800000   \n",
       "3255                      67.273                       14.100000   \n",
       "\n",
       "               CO2  Health Expenditure %  Education Expenditure %  \\\n",
       "3132  6.080000e+03             13.242202                 3.213780   \n",
       "3148  9.074000e+04              2.483576                 1.326320   \n",
       "3158  1.050000e+03              3.607616                 5.675892   \n",
       "3204  2.456300e+06              3.014147                 4.407230   \n",
       "3221  2.378000e+04              4.079797                 1.930000   \n",
       "3230  2.110000e+03              8.040011                 4.121590   \n",
       "3251  1.345000e+04              4.445151                 4.240000   \n",
       "3255  1.905700e+05              3.379927                 2.507550   \n",
       "\n",
       "      Unemployment  Corruption  Sanitation     Injuries  Communicable  \\\n",
       "3132        11.217    2.000000   52.738785   3481166.42  6.034435e+06   \n",
       "3148         4.438    2.500000   37.684884   3193719.60  1.167252e+07   \n",
       "3158         2.502    4.500000   64.630026     19966.53  6.109057e+04   \n",
       "3204         5.270    2.860513   43.904290  53563909.73  1.432145e+08   \n",
       "3221         4.350    3.000000   52.738785    747286.53  5.612344e+05   \n",
       "3230         5.340    3.000000   52.738785      8122.28  1.599500e+04   \n",
       "3251         3.097    3.000000   45.516779    888008.10  2.715000e+06   \n",
       "3255         3.542    3.000000   52.738785   5979739.34  4.706299e+07   \n",
       "\n",
       "      NonCommunicable  \n",
       "3132     7.601758e+06  \n",
       "3148     2.825667e+07  \n",
       "3158     1.329178e+05  \n",
       "3204     2.710974e+08  \n",
       "3221     4.412887e+06  \n",
       "3230     6.672047e+04  \n",
       "3251     5.685683e+06  \n",
       "3255     4.119615e+07  "
      ]
     },
     "execution_count": 31,
     "metadata": {},
     "output_type": "execute_result"
    }
   ],
   "source": [
    "south_asia_2019 = df[(df[\"Region\"] == \"South Asia\") & (df[\"Year\"] == 2019)]\n",
    "south_asia_2019"
   ]
  },
  {
   "cell_type": "code",
   "execution_count": 32,
   "id": "b466e9e1",
   "metadata": {},
   "outputs": [
    {
     "data": {
      "text/plain": [
       "<AxesSubplot: xlabel='Life Expectancy World Bank', ylabel='Country Name'>"
      ]
     },
     "execution_count": 32,
     "metadata": {},
     "output_type": "execute_result"
    },
    {
     "data": {
      "image/png": "[encoded data removed]",
      "text/plain": [
       "<Figure size 640x480 with 1 Axes>"
      ]
     },
     "metadata": {},
     "output_type": "display_data"
    }
   ],
   "source": [
    "sns.barplot(south_asia_2019, x=\"Life Expectancy World Bank\", y=\"Country Name\")"
   ]
  },
  {
   "cell_type": "markdown",
   "id": "c6a7df72",
   "metadata": {},
   "source": [
    "### Plot a histogram for life expectancy for the whole dataset"
   ]
  },
  {
   "cell_type": "code",
   "execution_count": 33,
   "id": "268637d3",
   "metadata": {},
   "outputs": [
    {
     "data": {
      "text/plain": [
       "<AxesSubplot: xlabel='Life Expectancy World Bank', ylabel='Count'>"
      ]
     },
     "execution_count": 33,
     "metadata": {},
     "output_type": "execute_result"
    },
    {
     "data": {
      "image/png": "[encoded data removed]",
      "text/plain": [
       "<Figure size 640x480 with 1 Axes>"
      ]
     },
     "metadata": {},
     "output_type": "display_data"
    }
   ],
   "source": [
    "sns.histplot(df, x=\"Life Expectancy World Bank\")"
   ]
  },
  {
   "cell_type": "markdown",
   "id": "db067cd8",
   "metadata": {},
   "source": [
    "### Plot a boxplot life expectancy for the whole dataset"
   ]
  },
  {
   "cell_type": "code",
   "execution_count": 34,
   "id": "7ba597b0",
   "metadata": {},
   "outputs": [
    {
     "data": {
      "text/plain": [
       "<AxesSubplot: xlabel='Life Expectancy World Bank'>"
      ]
     },
     "execution_count": 34,
     "metadata": {},
     "output_type": "execute_result"
    },
    {
     "data": {
      "image/png": "[encoded data removed]",
      "text/plain": [
       "<Figure size 640x480 with 1 Axes>"
      ]
     },
     "metadata": {},
     "output_type": "display_data"
    }
   ],
   "source": [
    "sns.boxplot(df, x=\"Life Expectancy World Bank\", color=\"cyan\")"
   ]
  },
  {
   "cell_type": "markdown",
   "id": "0bc490be",
   "metadata": {},
   "source": [
    "### Plot a boxplot for life expectancy, broken down by region"
   ]
  },
  {
   "cell_type": "code",
   "execution_count": 35,
   "id": "00e7150a",
   "metadata": {},
   "outputs": [
    {
     "data": {
      "text/plain": [
       "<AxesSubplot: xlabel='Life Expectancy World Bank', ylabel='Region'>"
      ]
     },
     "execution_count": 35,
     "metadata": {},
     "output_type": "execute_result"
    },
    {
     "data": {
      "image/png": "[encoded data removed]",
      "text/plain": [
       "<Figure size 640x480 with 1 Axes>"
      ]
     },
     "metadata": {},
     "output_type": "display_data"
    }
   ],
   "source": [
    "sns.boxplot(df, x=\"Life Expectancy World Bank\", y=\"Region\")"
   ]
  },
  {
   "cell_type": "markdown",
   "id": "9625577e",
   "metadata": {},
   "source": [
    "### Produce a heatmap showing correlation between a few of the variables"
   ]
  },
  {
   "cell_type": "code",
   "execution_count": 36,
   "id": "1595fb00",
   "metadata": {},
   "outputs": [
    {
     "data": {
      "text/html": [
       "<div>\n",
       "<style scoped>\n",
       "    .dataframe tbody tr th:only-of-type {\n",
       "        vertical-align: middle;\n",
       "    }\n",
       "\n",
       "    .dataframe tbody tr th {\n",
       "        vertical-align: top;\n",
       "    }\n",
       "\n",
       "    .dataframe thead th {\n",
       "        text-align: right;\n",
       "    }\n",
       "</style>\n",
       "<table border=\"1\" class=\"dataframe\">\n",
       "  <thead>\n",
       "    <tr style=\"text-align: right;\">\n",
       "      <th></th>\n",
       "      <th>Country Name</th>\n",
       "      <th>Country Code</th>\n",
       "      <th>Region</th>\n",
       "      <th>IncomeGroup</th>\n",
       "      <th>Year</th>\n",
       "      <th>Life Expectancy World Bank</th>\n",
       "      <th>Prevelance of Undernourishment</th>\n",
       "      <th>CO2</th>\n",
       "      <th>Health Expenditure %</th>\n",
       "      <th>Education Expenditure %</th>\n",
       "      <th>Unemployment</th>\n",
       "      <th>Corruption</th>\n",
       "      <th>Sanitation</th>\n",
       "      <th>Injuries</th>\n",
       "      <th>Communicable</th>\n",
       "      <th>NonCommunicable</th>\n",
       "    </tr>\n",
       "  </thead>\n",
       "  <tbody>\n",
       "    <tr>\n",
       "      <th>0</th>\n",
       "      <td>Afghanistan</td>\n",
       "      <td>AFG</td>\n",
       "      <td>South Asia</td>\n",
       "      <td>Low income</td>\n",
       "      <td>2001</td>\n",
       "      <td>56.308</td>\n",
       "      <td>47.8</td>\n",
       "      <td>730.0</td>\n",
       "      <td>6.364059</td>\n",
       "      <td>4.589014</td>\n",
       "      <td>10.809</td>\n",
       "      <td>2.860513</td>\n",
       "      <td>52.738785</td>\n",
       "      <td>2179727.10</td>\n",
       "      <td>9689193.70</td>\n",
       "      <td>5795426.38</td>\n",
       "    </tr>\n",
       "    <tr>\n",
       "      <th>1</th>\n",
       "      <td>Angola</td>\n",
       "      <td>AGO</td>\n",
       "      <td>Sub-Saharan Africa</td>\n",
       "      <td>Lower middle income</td>\n",
       "      <td>2001</td>\n",
       "      <td>47.059</td>\n",
       "      <td>67.5</td>\n",
       "      <td>15960.0</td>\n",
       "      <td>4.483516</td>\n",
       "      <td>4.589014</td>\n",
       "      <td>4.004</td>\n",
       "      <td>2.860513</td>\n",
       "      <td>52.738785</td>\n",
       "      <td>1392080.71</td>\n",
       "      <td>11190210.53</td>\n",
       "      <td>2663516.34</td>\n",
       "    </tr>\n",
       "  </tbody>\n",
       "</table>\n",
       "</div>"
      ],
      "text/plain": [
       "  Country Name Country Code              Region          IncomeGroup  Year  \\\n",
       "0  Afghanistan          AFG          South Asia           Low income  2001   \n",
       "1       Angola          AGO  Sub-Saharan Africa  Lower middle income  2001   \n",
       "\n",
       "   Life Expectancy World Bank  Prevelance of Undernourishment      CO2  \\\n",
       "0                      56.308                            47.8    730.0   \n",
       "1                      47.059                            67.5  15960.0   \n",
       "\n",
       "   Health Expenditure %  Education Expenditure %  Unemployment  Corruption  \\\n",
       "0              6.364059                 4.589014        10.809    2.860513   \n",
       "1              4.483516                 4.589014         4.004    2.860513   \n",
       "\n",
       "   Sanitation    Injuries  Communicable  NonCommunicable  \n",
       "0   52.738785  2179727.10    9689193.70       5795426.38  \n",
       "1   52.738785  1392080.71   11190210.53       2663516.34  "
      ]
     },
     "execution_count": 36,
     "metadata": {},
     "output_type": "execute_result"
    }
   ],
   "source": [
    "df.head(2)"
   ]
  },
  {
   "cell_type": "code",
   "execution_count": 37,
   "id": "1a19538b",
   "metadata": {},
   "outputs": [
    {
     "data": {
      "text/html": [
       "<div>\n",
       "<style scoped>\n",
       "    .dataframe tbody tr th:only-of-type {\n",
       "        vertical-align: middle;\n",
       "    }\n",
       "\n",
       "    .dataframe tbody tr th {\n",
       "        vertical-align: top;\n",
       "    }\n",
       "\n",
       "    .dataframe thead th {\n",
       "        text-align: right;\n",
       "    }\n",
       "</style>\n",
       "<table border=\"1\" class=\"dataframe\">\n",
       "  <thead>\n",
       "    <tr style=\"text-align: right;\">\n",
       "      <th></th>\n",
       "      <th>Life Expectancy World Bank</th>\n",
       "      <th>Prevelance of Undernourishment</th>\n",
       "      <th>Health Expenditure %</th>\n",
       "      <th>Sanitation</th>\n",
       "    </tr>\n",
       "  </thead>\n",
       "  <tbody>\n",
       "    <tr>\n",
       "      <th>Life Expectancy World Bank</th>\n",
       "      <td>1.000000</td>\n",
       "      <td>-0.613712</td>\n",
       "      <td>0.275310</td>\n",
       "      <td>0.509611</td>\n",
       "    </tr>\n",
       "    <tr>\n",
       "      <th>Prevelance of Undernourishment</th>\n",
       "      <td>-0.613712</td>\n",
       "      <td>1.000000</td>\n",
       "      <td>-0.194481</td>\n",
       "      <td>-0.397186</td>\n",
       "    </tr>\n",
       "    <tr>\n",
       "      <th>Health Expenditure %</th>\n",
       "      <td>0.275310</td>\n",
       "      <td>-0.194481</td>\n",
       "      <td>1.000000</td>\n",
       "      <td>0.179972</td>\n",
       "    </tr>\n",
       "    <tr>\n",
       "      <th>Sanitation</th>\n",
       "      <td>0.509611</td>\n",
       "      <td>-0.397186</td>\n",
       "      <td>0.179972</td>\n",
       "      <td>1.000000</td>\n",
       "    </tr>\n",
       "  </tbody>\n",
       "</table>\n",
       "</div>"
      ],
      "text/plain": [
       "                                Life Expectancy World Bank  \\\n",
       "Life Expectancy World Bank                        1.000000   \n",
       "Prevelance of Undernourishment                   -0.613712   \n",
       "Health Expenditure %                              0.275310   \n",
       "Sanitation                                        0.509611   \n",
       "\n",
       "                                Prevelance of Undernourishment  \\\n",
       "Life Expectancy World Bank                           -0.613712   \n",
       "Prevelance of Undernourishment                        1.000000   \n",
       "Health Expenditure %                                 -0.194481   \n",
       "Sanitation                                           -0.397186   \n",
       "\n",
       "                                Health Expenditure %  Sanitation  \n",
       "Life Expectancy World Bank                  0.275310    0.509611  \n",
       "Prevelance of Undernourishment             -0.194481   -0.397186  \n",
       "Health Expenditure %                        1.000000    0.179972  \n",
       "Sanitation                                  0.179972    1.000000  "
      ]
     },
     "execution_count": 37,
     "metadata": {},
     "output_type": "execute_result"
    }
   ],
   "source": [
    "pc = df[[\"Life Expectancy World Bank\", \"Prevelance of Undernourishment\", \"Health Expenditure %\", \"Sanitation\"]].corr()\n",
    "pc"
   ]
  },
  {
   "cell_type": "code",
   "execution_count": 38,
   "id": "61d72461",
   "metadata": {},
   "outputs": [
    {
     "data": {
      "text/plain": [
       "<AxesSubplot: >"
      ]
     },
     "execution_count": 38,
     "metadata": {},
     "output_type": "execute_result"
    },
    {
     "data": {
      "image/png": "[encoded data removed]",
      "text/plain": [
       "<Figure size 640x480 with 2 Axes>"
      ]
     },
     "metadata": {},
     "output_type": "display_data"
    }
   ],
   "source": [
    "col = [\"Life Expectancy World Bank\", \"Prevelance of Undernourishment\", \"Health Expenditure %\", \"Sanitation\"]\n",
    "\n",
    "sns.heatmap(pc, \n",
    "            annot = True,\n",
    "            annot_kws = {\"size\":20},\n",
    "            xticklabels = col,\n",
    "            yticklabels = col,\n",
    "            cmap=\"Greens\")"
   ]
  },
  {
   "cell_type": "code",
   "execution_count": null,
   "id": "1fa73a1e",
   "metadata": {},
   "outputs": [],
   "source": []
  }
 ],
 "metadata": {
  "kernelspec": {
   "display_name": "Python 3 (ipykernel)",
   "language": "python",
   "name": "python3"
  },
  "language_info": {
   "codemirror_mode": {
    "name": "ipython",
    "version": 3
   },
   "file_extension": ".py",
   "mimetype": "text/x-python",
   "name": "python",
   "nbconvert_exporter": "python",
   "pygments_lexer": "ipython3",
   "version": "3.10.12"
  }
 },
 "nbformat": 4,
 "nbformat_minor": 5
}
